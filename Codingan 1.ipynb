{
 "cells": [
  {
   "cell_type": "code",
   "execution_count": 1,
   "id": "79b0ec0d",
   "metadata": {
    "scrolled": false
   },
   "outputs": [],
   "source": [
    "#Library Yang Digunakan\n",
    "\n",
    "import pandas as pd\n",
    "import numpy as np\n",
    "\n",
    "import warnings\n",
    "warnings.filterwarnings('ignore')"
   ]
  },
  {
   "cell_type": "code",
   "execution_count": 2,
   "id": "fa1cae99",
   "metadata": {
    "scrolled": false
   },
   "outputs": [],
   "source": [
    "#Perintah Membaca Data Penelitian\n",
    "\n",
    "df = pd.read_excel('Data.xlsx')"
   ]
  },
  {
   "cell_type": "code",
   "execution_count": 3,
   "id": "e35ef7c6",
   "metadata": {
    "scrolled": false
   },
   "outputs": [
    {
     "data": {
      "text/html": [
       "<div>\n",
       "<style scoped>\n",
       "    .dataframe tbody tr th:only-of-type {\n",
       "        vertical-align: middle;\n",
       "    }\n",
       "\n",
       "    .dataframe tbody tr th {\n",
       "        vertical-align: top;\n",
       "    }\n",
       "\n",
       "    .dataframe thead th {\n",
       "        text-align: right;\n",
       "    }\n",
       "</style>\n",
       "<table border=\"1\" class=\"dataframe\">\n",
       "  <thead>\n",
       "    <tr style=\"text-align: right;\">\n",
       "      <th></th>\n",
       "      <th>Rank</th>\n",
       "      <th>Grade</th>\n",
       "      <th>Channel Name</th>\n",
       "      <th>Video Upload</th>\n",
       "      <th>Subscriber</th>\n",
       "      <th>Video View</th>\n",
       "    </tr>\n",
       "  </thead>\n",
       "  <tbody>\n",
       "    <tr>\n",
       "      <th>0</th>\n",
       "      <td>1st</td>\n",
       "      <td>B+</td>\n",
       "      <td>Ricis Official</td>\n",
       "      <td>1.961</td>\n",
       "      <td>30.3M</td>\n",
       "      <td>5,054,143,719</td>\n",
       "    </tr>\n",
       "    <tr>\n",
       "      <th>1</th>\n",
       "      <td>2nd</td>\n",
       "      <td>B+</td>\n",
       "      <td>AH</td>\n",
       "      <td>1.781</td>\n",
       "      <td>29.9M</td>\n",
       "      <td>4.047,338,027</td>\n",
       "    </tr>\n",
       "    <tr>\n",
       "      <th>2</th>\n",
       "      <td>3rd</td>\n",
       "      <td>B+</td>\n",
       "      <td>Jess No Limit</td>\n",
       "      <td>1.896</td>\n",
       "      <td>24.7M</td>\n",
       "      <td>3,053,969,517</td>\n",
       "    </tr>\n",
       "    <tr>\n",
       "      <th>3</th>\n",
       "      <td>4th</td>\n",
       "      <td>A-</td>\n",
       "      <td>Rans Entertaiment</td>\n",
       "      <td>3.031</td>\n",
       "      <td>24M</td>\n",
       "      <td>5,644,388,777</td>\n",
       "    </tr>\n",
       "    <tr>\n",
       "      <th>4</th>\n",
       "      <td>5th</td>\n",
       "      <td>A</td>\n",
       "      <td>TRANS7 OFFICIAL</td>\n",
       "      <td>78.292</td>\n",
       "      <td>23.1M</td>\n",
       "      <td>12,297,990,842</td>\n",
       "    </tr>\n",
       "    <tr>\n",
       "      <th>...</th>\n",
       "      <td>...</td>\n",
       "      <td>...</td>\n",
       "      <td>...</td>\n",
       "      <td>...</td>\n",
       "      <td>...</td>\n",
       "      <td>...</td>\n",
       "    </tr>\n",
       "    <tr>\n",
       "      <th>95</th>\n",
       "      <td>96th</td>\n",
       "      <td>B+</td>\n",
       "      <td>123 GO! Indonesian</td>\n",
       "      <td>334.000</td>\n",
       "      <td>6.45M</td>\n",
       "      <td>2,410,058,470</td>\n",
       "    </tr>\n",
       "    <tr>\n",
       "      <th>96</th>\n",
       "      <td>97th</td>\n",
       "      <td>B+</td>\n",
       "      <td>Indonesian Idol</td>\n",
       "      <td>1.278</td>\n",
       "      <td>6.44M</td>\n",
       "      <td>1,819,938,050</td>\n",
       "    </tr>\n",
       "    <tr>\n",
       "      <th>97</th>\n",
       "      <td>98th</td>\n",
       "      <td>A</td>\n",
       "      <td>Heidi dan Zidane</td>\n",
       "      <td>446.000</td>\n",
       "      <td>6.43M</td>\n",
       "      <td>3,391,066,770</td>\n",
       "    </tr>\n",
       "    <tr>\n",
       "      <th>98</th>\n",
       "      <td>99th</td>\n",
       "      <td>B</td>\n",
       "      <td>WAWAN MKS</td>\n",
       "      <td>810.000</td>\n",
       "      <td>6.3M</td>\n",
       "      <td>491,338,492</td>\n",
       "    </tr>\n",
       "    <tr>\n",
       "      <th>99</th>\n",
       "      <td>100th</td>\n",
       "      <td>B+</td>\n",
       "      <td>Calon Sarjana</td>\n",
       "      <td>1.228</td>\n",
       "      <td>6.3M</td>\n",
       "      <td>453,987,681</td>\n",
       "    </tr>\n",
       "  </tbody>\n",
       "</table>\n",
       "<p>100 rows × 6 columns</p>\n",
       "</div>"
      ],
      "text/plain": [
       "     Rank Grade        Channel Name  Video Upload Subscriber      Video View\n",
       "0     1st    B+      Ricis Official         1.961      30.3M   5,054,143,719\n",
       "1     2nd    B+                  AH         1.781      29.9M   4.047,338,027\n",
       "2     3rd    B+       Jess No Limit         1.896      24.7M   3,053,969,517\n",
       "3     4th    A-   Rans Entertaiment         3.031        24M   5,644,388,777\n",
       "4     5th     A     TRANS7 OFFICIAL        78.292      23.1M  12,297,990,842\n",
       "..    ...   ...                 ...           ...        ...             ...\n",
       "95   96th    B+  123 GO! Indonesian       334.000      6.45M   2,410,058,470\n",
       "96   97th    B+     Indonesian Idol         1.278      6.44M   1,819,938,050\n",
       "97   98th     A   Heidi dan Zidane        446.000      6.43M   3,391,066,770\n",
       "98   99th     B           WAWAN MKS       810.000       6.3M     491,338,492\n",
       "99  100th    B+       Calon Sarjana         1.228       6.3M     453,987,681\n",
       "\n",
       "[100 rows x 6 columns]"
      ]
     },
     "execution_count": 3,
     "metadata": {},
     "output_type": "execute_result"
    }
   ],
   "source": [
    "#Menampilkan Data\n",
    "\n",
    "df"
   ]
  },
  {
   "cell_type": "code",
   "execution_count": 4,
   "id": "3f1942a4",
   "metadata": {
    "scrolled": false
   },
   "outputs": [
    {
     "name": "stdout",
     "output_type": "stream",
     "text": [
      "<class 'pandas.core.frame.DataFrame'>\n",
      "RangeIndex: 100 entries, 0 to 99\n",
      "Data columns (total 6 columns):\n",
      " #   Column        Non-Null Count  Dtype  \n",
      "---  ------        --------------  -----  \n",
      " 0   Rank          100 non-null    object \n",
      " 1   Grade         99 non-null     object \n",
      " 2   Channel Name  100 non-null    object \n",
      " 3   Video Upload  99 non-null     float64\n",
      " 4   Subscriber    100 non-null    object \n",
      " 5   Video View    100 non-null    object \n",
      "dtypes: float64(1), object(5)\n",
      "memory usage: 4.8+ KB\n"
     ]
    }
   ],
   "source": [
    "#Menampilkan Struktur Data\n",
    "\n",
    "df.info()"
   ]
  },
  {
   "cell_type": "code",
   "execution_count": 5,
   "id": "90f854eb",
   "metadata": {
    "scrolled": false
   },
   "outputs": [],
   "source": [
    "#Mengatasi Missing Value Handling\n",
    "\n",
    "df['Grade'].fillna(df['Grade'].mode()[0], inplace=True)\n",
    "df['Video Upload'].fillna(df['Video Upload'].mean(), inplace=True)"
   ]
  },
  {
   "cell_type": "code",
   "execution_count": 6,
   "id": "2d2a13c1",
   "metadata": {
    "scrolled": true
   },
   "outputs": [
    {
     "name": "stdout",
     "output_type": "stream",
     "text": [
      "<class 'pandas.core.frame.DataFrame'>\n",
      "RangeIndex: 100 entries, 0 to 99\n",
      "Data columns (total 6 columns):\n",
      " #   Column        Non-Null Count  Dtype  \n",
      "---  ------        --------------  -----  \n",
      " 0   Rank          100 non-null    object \n",
      " 1   Grade         100 non-null    object \n",
      " 2   Channel Name  100 non-null    object \n",
      " 3   Video Upload  100 non-null    float64\n",
      " 4   Subscriber    100 non-null    object \n",
      " 5   Video View    100 non-null    object \n",
      "dtypes: float64(1), object(5)\n",
      "memory usage: 4.8+ KB\n"
     ]
    }
   ],
   "source": [
    "df.info()"
   ]
  },
  {
   "cell_type": "code",
   "execution_count": 7,
   "id": "cb1dd3ff",
   "metadata": {
    "scrolled": false
   },
   "outputs": [
    {
     "data": {
      "text/html": [
       "<div>\n",
       "<style scoped>\n",
       "    .dataframe tbody tr th:only-of-type {\n",
       "        vertical-align: middle;\n",
       "    }\n",
       "\n",
       "    .dataframe tbody tr th {\n",
       "        vertical-align: top;\n",
       "    }\n",
       "\n",
       "    .dataframe thead th {\n",
       "        text-align: right;\n",
       "    }\n",
       "</style>\n",
       "<table border=\"1\" class=\"dataframe\">\n",
       "  <thead>\n",
       "    <tr style=\"text-align: right;\">\n",
       "      <th></th>\n",
       "      <th>Rank</th>\n",
       "      <th>Grade</th>\n",
       "      <th>Channel Name</th>\n",
       "      <th>Video Upload</th>\n",
       "      <th>Subscriber</th>\n",
       "      <th>Video View</th>\n",
       "    </tr>\n",
       "  </thead>\n",
       "  <tbody>\n",
       "    <tr>\n",
       "      <th>0</th>\n",
       "      <td>1st</td>\n",
       "      <td>B+</td>\n",
       "      <td>Ricis Official</td>\n",
       "      <td>1.961</td>\n",
       "      <td>30.3M</td>\n",
       "      <td>5,054,143,719</td>\n",
       "    </tr>\n",
       "    <tr>\n",
       "      <th>1</th>\n",
       "      <td>2nd</td>\n",
       "      <td>B+</td>\n",
       "      <td>AH</td>\n",
       "      <td>1.781</td>\n",
       "      <td>29.9M</td>\n",
       "      <td>4.047,338,027</td>\n",
       "    </tr>\n",
       "    <tr>\n",
       "      <th>2</th>\n",
       "      <td>3rd</td>\n",
       "      <td>B+</td>\n",
       "      <td>Jess No Limit</td>\n",
       "      <td>1.896</td>\n",
       "      <td>24.7M</td>\n",
       "      <td>3,053,969,517</td>\n",
       "    </tr>\n",
       "    <tr>\n",
       "      <th>3</th>\n",
       "      <td>4th</td>\n",
       "      <td>A-</td>\n",
       "      <td>Rans Entertaiment</td>\n",
       "      <td>3.031</td>\n",
       "      <td>24M</td>\n",
       "      <td>5,644,388,777</td>\n",
       "    </tr>\n",
       "    <tr>\n",
       "      <th>4</th>\n",
       "      <td>5th</td>\n",
       "      <td>A</td>\n",
       "      <td>TRANS7 OFFICIAL</td>\n",
       "      <td>78.292</td>\n",
       "      <td>23.1M</td>\n",
       "      <td>12,297,990,842</td>\n",
       "    </tr>\n",
       "    <tr>\n",
       "      <th>...</th>\n",
       "      <td>...</td>\n",
       "      <td>...</td>\n",
       "      <td>...</td>\n",
       "      <td>...</td>\n",
       "      <td>...</td>\n",
       "      <td>...</td>\n",
       "    </tr>\n",
       "    <tr>\n",
       "      <th>95</th>\n",
       "      <td>96th</td>\n",
       "      <td>B+</td>\n",
       "      <td>123 GO! Indonesian</td>\n",
       "      <td>334.000</td>\n",
       "      <td>6.45M</td>\n",
       "      <td>2,410,058,470</td>\n",
       "    </tr>\n",
       "    <tr>\n",
       "      <th>96</th>\n",
       "      <td>97th</td>\n",
       "      <td>B+</td>\n",
       "      <td>Indonesian Idol</td>\n",
       "      <td>1.278</td>\n",
       "      <td>6.44M</td>\n",
       "      <td>1,819,938,050</td>\n",
       "    </tr>\n",
       "    <tr>\n",
       "      <th>97</th>\n",
       "      <td>98th</td>\n",
       "      <td>A</td>\n",
       "      <td>Heidi dan Zidane</td>\n",
       "      <td>446.000</td>\n",
       "      <td>6.43M</td>\n",
       "      <td>3,391,066,770</td>\n",
       "    </tr>\n",
       "    <tr>\n",
       "      <th>98</th>\n",
       "      <td>99th</td>\n",
       "      <td>B</td>\n",
       "      <td>WAWAN MKS</td>\n",
       "      <td>810.000</td>\n",
       "      <td>6.3M</td>\n",
       "      <td>491,338,492</td>\n",
       "    </tr>\n",
       "    <tr>\n",
       "      <th>99</th>\n",
       "      <td>100th</td>\n",
       "      <td>B+</td>\n",
       "      <td>Calon Sarjana</td>\n",
       "      <td>1.228</td>\n",
       "      <td>6.3M</td>\n",
       "      <td>453,987,681</td>\n",
       "    </tr>\n",
       "  </tbody>\n",
       "</table>\n",
       "<p>100 rows × 6 columns</p>\n",
       "</div>"
      ],
      "text/plain": [
       "     Rank Grade        Channel Name  Video Upload Subscriber      Video View\n",
       "0     1st    B+      Ricis Official         1.961      30.3M   5,054,143,719\n",
       "1     2nd    B+                  AH         1.781      29.9M   4.047,338,027\n",
       "2     3rd    B+       Jess No Limit         1.896      24.7M   3,053,969,517\n",
       "3     4th    A-   Rans Entertaiment         3.031        24M   5,644,388,777\n",
       "4     5th     A     TRANS7 OFFICIAL        78.292      23.1M  12,297,990,842\n",
       "..    ...   ...                 ...           ...        ...             ...\n",
       "95   96th    B+  123 GO! Indonesian       334.000      6.45M   2,410,058,470\n",
       "96   97th    B+     Indonesian Idol         1.278      6.44M   1,819,938,050\n",
       "97   98th     A   Heidi dan Zidane        446.000      6.43M   3,391,066,770\n",
       "98   99th     B           WAWAN MKS       810.000       6.3M     491,338,492\n",
       "99  100th    B+       Calon Sarjana         1.228       6.3M     453,987,681\n",
       "\n",
       "[100 rows x 6 columns]"
      ]
     },
     "execution_count": 7,
     "metadata": {},
     "output_type": "execute_result"
    }
   ],
   "source": [
    "df"
   ]
  },
  {
   "cell_type": "code",
   "execution_count": 8,
   "id": "abaaefa1",
   "metadata": {
    "scrolled": false
   },
   "outputs": [
    {
     "data": {
      "text/html": [
       "<div>\n",
       "<style scoped>\n",
       "    .dataframe tbody tr th:only-of-type {\n",
       "        vertical-align: middle;\n",
       "    }\n",
       "\n",
       "    .dataframe tbody tr th {\n",
       "        vertical-align: top;\n",
       "    }\n",
       "\n",
       "    .dataframe thead th {\n",
       "        text-align: right;\n",
       "    }\n",
       "</style>\n",
       "<table border=\"1\" class=\"dataframe\">\n",
       "  <thead>\n",
       "    <tr style=\"text-align: right;\">\n",
       "      <th></th>\n",
       "      <th>Rank</th>\n",
       "      <th>Grade</th>\n",
       "      <th>Channel Name</th>\n",
       "      <th>Video Upload</th>\n",
       "      <th>Subscriber</th>\n",
       "      <th>Video View</th>\n",
       "      <th>Grade</th>\n",
       "    </tr>\n",
       "  </thead>\n",
       "  <tbody>\n",
       "    <tr>\n",
       "      <th>0</th>\n",
       "      <td>1st</td>\n",
       "      <td>3</td>\n",
       "      <td>Ricis Official</td>\n",
       "      <td>1.961</td>\n",
       "      <td>32</td>\n",
       "      <td>74</td>\n",
       "      <td>3</td>\n",
       "    </tr>\n",
       "    <tr>\n",
       "      <th>1</th>\n",
       "      <td>2nd</td>\n",
       "      <td>3</td>\n",
       "      <td>AH</td>\n",
       "      <td>1.781</td>\n",
       "      <td>31</td>\n",
       "      <td>70</td>\n",
       "      <td>3</td>\n",
       "    </tr>\n",
       "    <tr>\n",
       "      <th>2</th>\n",
       "      <td>3rd</td>\n",
       "      <td>3</td>\n",
       "      <td>Jess No Limit</td>\n",
       "      <td>1.896</td>\n",
       "      <td>29</td>\n",
       "      <td>46</td>\n",
       "      <td>3</td>\n",
       "    </tr>\n",
       "    <tr>\n",
       "      <th>3</th>\n",
       "      <td>4th</td>\n",
       "      <td>1</td>\n",
       "      <td>Rans Entertaiment</td>\n",
       "      <td>3.031</td>\n",
       "      <td>30</td>\n",
       "      <td>78</td>\n",
       "      <td>1</td>\n",
       "    </tr>\n",
       "    <tr>\n",
       "      <th>4</th>\n",
       "      <td>5th</td>\n",
       "      <td>0</td>\n",
       "      <td>TRANS7 OFFICIAL</td>\n",
       "      <td>78.292</td>\n",
       "      <td>28</td>\n",
       "      <td>33</td>\n",
       "      <td>0</td>\n",
       "    </tr>\n",
       "    <tr>\n",
       "      <th>...</th>\n",
       "      <td>...</td>\n",
       "      <td>...</td>\n",
       "      <td>...</td>\n",
       "      <td>...</td>\n",
       "      <td>...</td>\n",
       "      <td>...</td>\n",
       "      <td>...</td>\n",
       "    </tr>\n",
       "    <tr>\n",
       "      <th>95</th>\n",
       "      <td>96th</td>\n",
       "      <td>3</td>\n",
       "      <td>123 GO! Indonesian</td>\n",
       "      <td>334.000</td>\n",
       "      <td>36</td>\n",
       "      <td>37</td>\n",
       "      <td>3</td>\n",
       "    </tr>\n",
       "    <tr>\n",
       "      <th>96</th>\n",
       "      <td>97th</td>\n",
       "      <td>3</td>\n",
       "      <td>Indonesian Idol</td>\n",
       "      <td>1.278</td>\n",
       "      <td>35</td>\n",
       "      <td>25</td>\n",
       "      <td>3</td>\n",
       "    </tr>\n",
       "    <tr>\n",
       "      <th>97</th>\n",
       "      <td>98th</td>\n",
       "      <td>0</td>\n",
       "      <td>Heidi dan Zidane</td>\n",
       "      <td>446.000</td>\n",
       "      <td>34</td>\n",
       "      <td>53</td>\n",
       "      <td>0</td>\n",
       "    </tr>\n",
       "    <tr>\n",
       "      <th>98</th>\n",
       "      <td>99th</td>\n",
       "      <td>2</td>\n",
       "      <td>WAWAN MKS</td>\n",
       "      <td>810.000</td>\n",
       "      <td>33</td>\n",
       "      <td>72</td>\n",
       "      <td>2</td>\n",
       "    </tr>\n",
       "    <tr>\n",
       "      <th>99</th>\n",
       "      <td>100th</td>\n",
       "      <td>3</td>\n",
       "      <td>Calon Sarjana</td>\n",
       "      <td>1.228</td>\n",
       "      <td>33</td>\n",
       "      <td>71</td>\n",
       "      <td>3</td>\n",
       "    </tr>\n",
       "  </tbody>\n",
       "</table>\n",
       "<p>100 rows × 7 columns</p>\n",
       "</div>"
      ],
      "text/plain": [
       "     Rank  Grade        Channel Name  Video Upload  Subscriber  Video View  \\\n",
       "0     1st      3      Ricis Official         1.961          32          74   \n",
       "1     2nd      3                  AH         1.781          31          70   \n",
       "2     3rd      3       Jess No Limit         1.896          29          46   \n",
       "3     4th      1   Rans Entertaiment         3.031          30          78   \n",
       "4     5th      0     TRANS7 OFFICIAL        78.292          28          33   \n",
       "..    ...    ...                 ...           ...         ...         ...   \n",
       "95   96th      3  123 GO! Indonesian       334.000          36          37   \n",
       "96   97th      3     Indonesian Idol         1.278          35          25   \n",
       "97   98th      0   Heidi dan Zidane        446.000          34          53   \n",
       "98   99th      2           WAWAN MKS       810.000          33          72   \n",
       "99  100th      3       Calon Sarjana         1.228          33          71   \n",
       "\n",
       "    Grade  \n",
       "0       3  \n",
       "1       3  \n",
       "2       3  \n",
       "3       1  \n",
       "4       0  \n",
       "..    ...  \n",
       "95      3  \n",
       "96      3  \n",
       "97      0  \n",
       "98      2  \n",
       "99      3  \n",
       "\n",
       "[100 rows x 7 columns]"
      ]
     },
     "execution_count": 8,
     "metadata": {},
     "output_type": "execute_result"
    }
   ],
   "source": [
    "#Encoding\n",
    "\n",
    "from sklearn.preprocessing import LabelEncoder\n",
    "\n",
    "encoder = LabelEncoder()\n",
    "\n",
    "df['Grade'] = encoder.fit_transform(df['Grade'].values)\n",
    "df_grade = df[['Grade']].copy()\n",
    "df['Subscriber'] = encoder.fit_transform(df['Subscriber'].values)\n",
    "df['Video View'] = encoder.fit_transform(df['Video View'].values)\n",
    "\n",
    "df = pd.concat([df, df_grade], axis = 1)\n",
    "df"
   ]
  },
  {
   "cell_type": "code",
   "execution_count": 9,
   "id": "eb96b931",
   "metadata": {
    "scrolled": false
   },
   "outputs": [],
   "source": [
    "#Menggunakan Fungsi X dan Y\n",
    "\n",
    "x = df.drop(df[['Rank', 'Grade', 'Channel Name']], axis=1)\n",
    "y = df_grade"
   ]
  },
  {
   "cell_type": "code",
   "execution_count": 10,
   "id": "786e74b8",
   "metadata": {
    "scrolled": false
   },
   "outputs": [],
   "source": [
    "#SPLIT DATA\n",
    "\n",
    "from sklearn.model_selection import train_test_split\n",
    "x_train,x_test,y_train,y_test = train_test_split(x, y,test_size=0.2, random_state=0)"
   ]
  },
  {
   "cell_type": "code",
   "execution_count": 11,
   "id": "b675082d",
   "metadata": {
    "scrolled": true
   },
   "outputs": [
    {
     "name": "stdout",
     "output_type": "stream",
     "text": [
      "    Video Upload  Subscriber  Video View\n",
      "43        71.575          84          66\n",
      "62         1.512          66          59\n",
      "3          3.031          30          78\n",
      "71         1.000          59          27\n",
      "45      1120.000          82          17\n",
      "..           ...         ...         ...\n",
      "96         1.278          35          25\n",
      "67       499.000          62          98\n",
      "64         1.531          65           8\n",
      "47       320.000          80          99\n",
      "44       860.000          83          94\n",
      "\n",
      "[80 rows x 3 columns]\n"
     ]
    }
   ],
   "source": [
    "print (x_train)"
   ]
  },
  {
   "cell_type": "code",
   "execution_count": 12,
   "id": "21f61727",
   "metadata": {
    "scrolled": true
   },
   "outputs": [
    {
     "name": "stdout",
     "output_type": "stream",
     "text": [
      "    Video Upload  Subscriber  Video View\n",
      "26       405.000           7           3\n",
      "86         1.951          45           9\n",
      "2          1.896          29          46\n",
      "55      1900.000          74          19\n",
      "75       286.000          55          50\n",
      "93         6.743          38          40\n",
      "16         1.779          17          11\n",
      "73        13.129          57          56\n",
      "54       363.000          75          49\n",
      "95       334.000          36          37\n",
      "53       650.000          76          55\n",
      "92         1.037          39          90\n",
      "78       674.000          52           2\n",
      "13       572.000          19          43\n",
      "7         57.826          25          95\n",
      "30       107.000           3          44\n",
      "22        53.993          10          86\n",
      "24         2.305           9          41\n",
      "33         1.326           1          96\n",
      "8          1.116          24          60\n"
     ]
    }
   ],
   "source": [
    "print (x_test)"
   ]
  },
  {
   "cell_type": "code",
   "execution_count": 13,
   "id": "7fe9b13d",
   "metadata": {
    "scrolled": true
   },
   "outputs": [
    {
     "name": "stdout",
     "output_type": "stream",
     "text": [
      "    Grade\n",
      "43      1\n",
      "62      3\n",
      "3       1\n",
      "71      1\n",
      "45      3\n",
      "..    ...\n",
      "96      3\n",
      "67      3\n",
      "64      3\n",
      "47      3\n",
      "44      3\n",
      "\n",
      "[80 rows x 1 columns]\n"
     ]
    }
   ],
   "source": [
    "print(y_train)"
   ]
  },
  {
   "cell_type": "code",
   "execution_count": 14,
   "id": "a99e7554",
   "metadata": {
    "scrolled": true
   },
   "outputs": [
    {
     "name": "stdout",
     "output_type": "stream",
     "text": [
      "    Grade\n",
      "26      2\n",
      "86      3\n",
      "2       3\n",
      "55      3\n",
      "75      3\n",
      "93      3\n",
      "16      3\n",
      "73      1\n",
      "54      3\n",
      "95      3\n",
      "53      0\n",
      "92      2\n",
      "78      3\n",
      "13      1\n",
      "7       0\n",
      "30      2\n",
      "22      1\n",
      "24      2\n",
      "33      3\n",
      "8       1\n"
     ]
    }
   ],
   "source": [
    "print(y_test)"
   ]
  },
  {
   "cell_type": "code",
   "execution_count": 15,
   "id": "bf0a2070",
   "metadata": {
    "scrolled": false
   },
   "outputs": [],
   "source": [
    "#Normalisasi/Standarisasi Data\n",
    "\n",
    "from sklearn.preprocessing import StandardScaler\n",
    "\n",
    "standard = StandardScaler()\n",
    "standard.fit(x_train)\n",
    "\n",
    "x_train_std = standard.fit_transform(x_train)\n",
    "x_test_std = standard.fit_transform(x_test)"
   ]
  },
  {
   "cell_type": "markdown",
   "id": "7a0c8ad9",
   "metadata": {},
   "source": [
    "# Algoritma C4.5"
   ]
  },
  {
   "cell_type": "code",
   "execution_count": 1,
   "id": "cf3f5dfd",
   "metadata": {
    "scrolled": true
   },
   "outputs": [
    {
     "ename": "NameError",
     "evalue": "name 'x_train_std' is not defined",
     "output_type": "error",
     "traceback": [
      "\u001b[1;31m---------------------------------------------------------------------------\u001b[0m",
      "\u001b[1;31mNameError\u001b[0m                                 Traceback (most recent call last)",
      "Input \u001b[1;32mIn [1]\u001b[0m, in \u001b[0;36m<cell line: 4>\u001b[1;34m()\u001b[0m\n\u001b[0;32m      1\u001b[0m \u001b[38;5;28;01mfrom\u001b[39;00m \u001b[38;5;21;01msklearn\u001b[39;00m\u001b[38;5;21;01m.\u001b[39;00m\u001b[38;5;21;01mtree\u001b[39;00m \u001b[38;5;28;01mimport\u001b[39;00m DecisionTreeClassifier\n\u001b[0;32m      3\u001b[0m decision_tree \u001b[38;5;241m=\u001b[39m DecisionTreeClassifier()\n\u001b[1;32m----> 4\u001b[0m decision_tree \u001b[38;5;241m=\u001b[39m decision_tree\u001b[38;5;241m.\u001b[39mfit(\u001b[43mx_train_std\u001b[49m, y_train)\n",
      "\u001b[1;31mNameError\u001b[0m: name 'x_train_std' is not defined"
     ]
    }
   ],
   "source": [
    "from sklearn.tree import DecisionTreeClassifier\n",
    "\n",
    "decision_tree = DecisionTreeClassifier()\n",
    "decision_tree = decision_tree.fit(x_train_std, y_train)\n"
   ]
  },
  {
   "cell_type": "code",
   "execution_count": 2,
   "id": "246d4c06",
   "metadata": {
    "scrolled": true
   },
   "outputs": [
    {
     "ename": "NameError",
     "evalue": "name 'x_train_std' is not defined",
     "output_type": "error",
     "traceback": [
      "\u001b[1;31m---------------------------------------------------------------------------\u001b[0m",
      "\u001b[1;31mNameError\u001b[0m                                 Traceback (most recent call last)",
      "Input \u001b[1;32mIn [2]\u001b[0m, in \u001b[0;36m<cell line: 3>\u001b[1;34m()\u001b[0m\n\u001b[0;32m      1\u001b[0m \u001b[38;5;66;03m#Pengujian model C4.5\u001b[39;00m\n\u001b[1;32m----> 3\u001b[0m \u001b[38;5;28mprint\u001b[39m(\u001b[38;5;124m'\u001b[39m\u001b[38;5;124mTraining Accuracy :\u001b[39m\u001b[38;5;124m'\u001b[39m, decision_tree\u001b[38;5;241m.\u001b[39mscore(\u001b[43mx_train_std\u001b[49m, y_train)\u001b[38;5;241m*\u001b[39m\u001b[38;5;241m100\u001b[39m)\n\u001b[0;32m      4\u001b[0m \u001b[38;5;28mprint\u001b[39m(\u001b[38;5;124m'\u001b[39m\u001b[38;5;124mTesting Accuracy :\u001b[39m\u001b[38;5;124m'\u001b[39m, decision_tree\u001b[38;5;241m.\u001b[39mscore(x_test_std, y_test)\u001b[38;5;241m*\u001b[39m\u001b[38;5;241m100\u001b[39m)\n",
      "\u001b[1;31mNameError\u001b[0m: name 'x_train_std' is not defined"
     ]
    }
   ],
   "source": [
    "#Pengujian model C4.5\n",
    "\n",
    "print('Training Accuracy :', decision_tree.score(x_train_std, y_train)*100)\n",
    "print('Testing Accuracy :', decision_tree.score(x_test_std, y_test)*100)\n"
   ]
  },
  {
   "cell_type": "code",
   "execution_count": 3,
   "id": "3cc2f9fd",
   "metadata": {
    "scrolled": true
   },
   "outputs": [
    {
     "ename": "NameError",
     "evalue": "name 'x' is not defined",
     "output_type": "error",
     "traceback": [
      "\u001b[1;31m---------------------------------------------------------------------------\u001b[0m",
      "\u001b[1;31mNameError\u001b[0m                                 Traceback (most recent call last)",
      "Input \u001b[1;32mIn [3]\u001b[0m, in \u001b[0;36m<cell line: 9>\u001b[1;34m()\u001b[0m\n\u001b[0;32m      6\u001b[0m decision_tree \u001b[38;5;241m=\u001b[39m DecisionTreeClassifier()\n\u001b[0;32m      8\u001b[0m kfold \u001b[38;5;241m=\u001b[39m KFold(n_splits\u001b[38;5;241m=\u001b[39m\u001b[38;5;241m10\u001b[39m)\n\u001b[1;32m----> 9\u001b[0m accuracy \u001b[38;5;241m=\u001b[39m cross_val_score(decision_tree, \u001b[43mx\u001b[49m, y, scoring\u001b[38;5;241m=\u001b[39m\u001b[38;5;124m'\u001b[39m\u001b[38;5;124maccuracy\u001b[39m\u001b[38;5;124m'\u001b[39m, cv\u001b[38;5;241m=\u001b[39mkfold)\n\u001b[0;32m     10\u001b[0m accuracy_percentage \u001b[38;5;241m=\u001b[39m accuracy\u001b[38;5;241m.\u001b[39mmean()\u001b[38;5;241m*\u001b[39m\u001b[38;5;241m100\u001b[39m\n\u001b[0;32m     12\u001b[0m \u001b[38;5;28mprint\u001b[39m(\u001b[38;5;124m'\u001b[39m\u001b[38;5;124mAkurasi Model C4.5: \u001b[39m\u001b[38;5;124m'\u001b[39m,accuracy_percentage)\n",
      "\u001b[1;31mNameError\u001b[0m: name 'x' is not defined"
     ]
    }
   ],
   "source": [
    "#Evaluasi dan Validasi model C4.5\n",
    "\n",
    "from sklearn.model_selection import cross_val_score\n",
    "from sklearn.model_selection import KFold\n",
    "\n",
    "decision_tree = DecisionTreeClassifier()\n",
    "\n",
    "kfold = KFold(n_splits=10)\n",
    "accuracy = cross_val_score(decision_tree, x, y, scoring='accuracy', cv=kfold)\n",
    "accuracy_percentage = accuracy.mean()*100\n",
    "\n",
    "print('Akurasi Model C4.5: ',accuracy_percentage)"
   ]
  },
  {
   "cell_type": "markdown",
   "id": "514e7413",
   "metadata": {},
   "source": [
    "# Algoritma Naive Bayes"
   ]
  },
  {
   "cell_type": "code",
   "execution_count": 19,
   "id": "e91c7113",
   "metadata": {
    "scrolled": true
   },
   "outputs": [],
   "source": [
    "from sklearn.naive_bayes import GaussianNB\n",
    "\n",
    "nb = GaussianNB()\n",
    "nb = nb.fit(x_train_std, y_train)\n"
   ]
  },
  {
   "cell_type": "code",
   "execution_count": 4,
   "id": "87528eb2",
   "metadata": {
    "scrolled": true
   },
   "outputs": [
    {
     "ename": "NameError",
     "evalue": "name 'nb' is not defined",
     "output_type": "error",
     "traceback": [
      "\u001b[1;31m---------------------------------------------------------------------------\u001b[0m",
      "\u001b[1;31mNameError\u001b[0m                                 Traceback (most recent call last)",
      "Input \u001b[1;32mIn [4]\u001b[0m, in \u001b[0;36m<cell line: 3>\u001b[1;34m()\u001b[0m\n\u001b[0;32m      1\u001b[0m \u001b[38;5;66;03m#Pengujian model Naive Bayes\u001b[39;00m\n\u001b[1;32m----> 3\u001b[0m \u001b[38;5;28mprint\u001b[39m(\u001b[38;5;124m'\u001b[39m\u001b[38;5;124mTraining Accuracy :\u001b[39m\u001b[38;5;124m'\u001b[39m, \u001b[43mnb\u001b[49m\u001b[38;5;241m.\u001b[39mscore(x_train_std, y_train)\u001b[38;5;241m*\u001b[39m\u001b[38;5;241m100\u001b[39m)\n\u001b[0;32m      4\u001b[0m \u001b[38;5;28mprint\u001b[39m(\u001b[38;5;124m'\u001b[39m\u001b[38;5;124mTesting Accuracy :\u001b[39m\u001b[38;5;124m'\u001b[39m, nb\u001b[38;5;241m.\u001b[39mscore(x_test_std, y_test)\u001b[38;5;241m*\u001b[39m\u001b[38;5;241m100\u001b[39m)\n",
      "\u001b[1;31mNameError\u001b[0m: name 'nb' is not defined"
     ]
    }
   ],
   "source": [
    "#Pengujian model Naive Bayes\n",
    "\n",
    "print('Training Accuracy :', nb.score(x_train_std, y_train)*100)\n",
    "print('Testing Accuracy :', nb.score(x_test_std, y_test)*100)\n"
   ]
  },
  {
   "cell_type": "code",
   "execution_count": 21,
   "id": "52f0ce55",
   "metadata": {
    "scrolled": true
   },
   "outputs": [
    {
     "name": "stdout",
     "output_type": "stream",
     "text": [
      "Akurasi Model Naive Bayes:  37.0\n"
     ]
    }
   ],
   "source": [
    "#Evaluasi dan Validasi Model Naive Bayes\n",
    "\n",
    "from sklearn.model_selection import cross_val_score\n",
    "from sklearn.model_selection import KFold\n",
    "\n",
    "nb = GaussianNB()\n",
    "\n",
    "kfold = KFold(n_splits=10)\n",
    "accuracy = cross_val_score(nb, x, y, scoring='accuracy', cv=kfold)\n",
    "accuracy_percentage = accuracy.mean()*100\n",
    "\n",
    "print('Akurasi Model Naive Bayes: ',accuracy_percentage)"
   ]
  },
  {
   "cell_type": "markdown",
   "id": "7f1ad567",
   "metadata": {},
   "source": [
    "# Algoritma KNN"
   ]
  },
  {
   "cell_type": "code",
   "execution_count": 22,
   "id": "38791f3b",
   "metadata": {
    "scrolled": true
   },
   "outputs": [],
   "source": [
    "from sklearn.neighbors import KNeighborsClassifier\n",
    "\n",
    "knn = KNeighborsClassifier(n_neighbors = 2)\n",
    "knn = knn.fit(x_train_std, y_train)\n"
   ]
  },
  {
   "cell_type": "raw",
   "id": "88d2c038",
   "metadata": {
    "scrolled": true
   },
   "source": [
    "# Pengujian model KNN\n",
    "\n",
    "print('Training Accuracy :', knn.score(x_train_std, y_train)*100)\n",
    "print('Testing Accuracy :', knn.score(x_test_std, y_test)*100)\n"
   ]
  },
  {
   "cell_type": "code",
   "execution_count": 24,
   "id": "26cddee0",
   "metadata": {
    "scrolled": true
   },
   "outputs": [
    {
     "name": "stdout",
     "output_type": "stream",
     "text": [
      "Akurasi Model KNN:  33.0\n"
     ]
    }
   ],
   "source": [
    "#Evaluasi dan Validasi Model KNN\n",
    "\n",
    "from sklearn.model_selection import cross_val_score\n",
    "from sklearn.model_selection import KFold\n",
    "\n",
    "knn = KNeighborsClassifier(n_neighbors = 2)\n",
    "\n",
    "kfold = KFold(n_splits=10)\n",
    "accuracy = cross_val_score(knn, x, y, scoring='accuracy', cv=kfold)\n",
    "accuracy_percentage = accuracy.mean()*100\n",
    "\n",
    "print('Akurasi Model KNN: ',accuracy_percentage)"
   ]
  },
  {
   "cell_type": "code",
   "execution_count": null,
   "id": "806e9575",
   "metadata": {
    "scrolled": false
   },
   "outputs": [],
   "source": []
  }
 ],
 "metadata": {
  "kernelspec": {
   "display_name": "Python 3 (ipykernel)",
   "language": "python",
   "name": "python3"
  },
  "language_info": {
   "codemirror_mode": {
    "name": "ipython",
    "version": 3
   },
   "file_extension": ".py",
   "mimetype": "text/x-python",
   "name": "python",
   "nbconvert_exporter": "python",
   "pygments_lexer": "ipython3",
   "version": "3.10.5"
  }
 },
 "nbformat": 4,
 "nbformat_minor": 5
}
